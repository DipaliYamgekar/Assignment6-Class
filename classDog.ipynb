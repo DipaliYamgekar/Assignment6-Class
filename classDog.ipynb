{
 "cells": [
  {
   "cell_type": "code",
   "execution_count": 10,
   "id": "a0c8896d",
   "metadata": {},
   "outputs": [
    {
     "name": "stdout",
     "output_type": "stream",
     "text": [
      "jimi is 12 years old\n",
      "jimi color is  blue\n"
     ]
    }
   ],
   "source": [
    "class Dog:\n",
    "    \n",
    "    def __init__(self, name, age, coatColor):\n",
    "        self.name = name\n",
    "        self.age = age\n",
    "        self.coatColor = coatColor\n",
    "    \n",
    "    def description(self):\n",
    "        return \"{} is {} years old\".format(self.name, self.age)\n",
    "    \n",
    "    def get_info(self):\n",
    "        return \"{} is {}\".format(self.coatColor, coatColor)\n",
    "\n",
    "class JackRussellTerrier(Dog):\n",
    "    def run(self, coatColor):\n",
    "        return \"{} color {}\".format(self.name, coatColor)\n",
    "\n",
    "class Bulldog(Dog):\n",
    "     def run(self, coatColor):\n",
    "            return \"{} color is  {}\".format(self.name, coatColor)\n",
    "\n",
    "jimi = Bulldog(\"jimi\", 12 , \"blue\")\n",
    "print(jimi.description())\n",
    "\n",
    "print(jimi.run(\"blue\"))\n"
   ]
  },
  {
   "cell_type": "code",
   "execution_count": null,
   "id": "ce0010a0",
   "metadata": {},
   "outputs": [],
   "source": []
  },
  {
   "cell_type": "code",
   "execution_count": null,
   "id": "0e820b3b",
   "metadata": {},
   "outputs": [],
   "source": []
  },
  {
   "cell_type": "code",
   "execution_count": null,
   "id": "a4755dd6",
   "metadata": {},
   "outputs": [],
   "source": []
  }
 ],
 "metadata": {
  "kernelspec": {
   "display_name": "Python 3 (ipykernel)",
   "language": "python",
   "name": "python3"
  },
  "language_info": {
   "codemirror_mode": {
    "name": "ipython",
    "version": 3
   },
   "file_extension": ".py",
   "mimetype": "text/x-python",
   "name": "python",
   "nbconvert_exporter": "python",
   "pygments_lexer": "ipython3",
   "version": "3.9.12"
  }
 },
 "nbformat": 4,
 "nbformat_minor": 5
}
